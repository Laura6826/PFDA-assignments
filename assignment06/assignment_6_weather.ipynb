{
 "cells": [
  {
   "cell_type": "markdown",
   "metadata": {},
   "source": [
    "# <span style=\"color:orange\"> Assignment 05- Weather.<span>\n",
    "*By Laura Lyons*\n",
    "***"
   ]
  },
  {
   "cell_type": "markdown",
   "metadata": {},
   "source": [
    "The purpose of this assignement is to create a python file or notebook called assignment_6_Weather (.py or .ipynb)\n",
    "\n",
    "Get the data from this link: https://cli.fusio.net/cli/climate_data/webdata/hly4935.csv and plot the following variables:\n",
    "\n",
    "1. Temperature\n",
    "1. Mean temperature each day\n",
    "1. Mean temperature for each month\n",
    "\n",
    "Additional marks are available for plotting:\n",
    "\n",
    "1. Windspeed (there is data missing from this column)\n",
    "1. The rolling windspeed (say over 24 hours)\n",
    "1. The max windspeed for each day\n",
    "1. The monthly mean of the daily max windspeeds (yer I am being nasty here)"
   ]
  },
  {
   "cell_type": "markdown",
   "metadata": {},
   "source": [
    "#### <span style=\"color:orange\">Prerequisites/ Imports <span>\n",
    "\n",
    "The first step is to download a number of imports:"
   ]
  },
  {
   "cell_type": "code",
   "execution_count": 2,
   "metadata": {},
   "outputs": [],
   "source": [
    "import pandas as pd\n",
    "import numpy as np\n",
    "import matplotlib.pyplot as plt\n",
    "import seaborn as sns"
   ]
  },
  {
   "cell_type": "markdown",
   "metadata": {},
   "source": [
    "#### <span style=\"color:orange\"> Load the Data<span>\n",
    "\n",
    "The [data](https://cli.fusio.net/cli/climate_data/webdata/hly4935.csv) was downloaded from the link provided on the [assessment document](https://cli.fusio.net/cli/climate_data/webdata/hly4935.csv).\n",
    "\n",
    "Before analysis, it is best practice to assess the data integrity and manipulate as necessary ie (remove/ replace missing data, ensure the row headers are appropriate/present etc.)\n",
    "\n",
    "At first glance, i can see that we will need to amend the data set prior to analysis by:\n",
    "1. Downloading the data set.\n",
    "1. Removing the first 23 rows, as these rows do not contain data of interest to this analysis."
   ]
  },
  {
   "cell_type": "code",
   "execution_count": 8,
   "metadata": {},
   "outputs": [
    {
     "name": "stderr",
     "output_type": "stream",
     "text": [
      "C:\\Users\\Laura\\AppData\\Local\\Temp\\ipykernel_752\\3339994786.py:2: DtypeWarning: Columns (1,2,3,4,5,6,7,8,9,10,11,12,13,14,15,16,17,18,19,20) have mixed types. Specify dtype option on import or set low_memory=False.\n",
      "  df = pd.read_csv('https://cli.fusio.net/cli/climate_data/webdata/hly4935.csv', header=None, names=['date', 'time', 'temperature', 'humidity', 'dewpoint', 'pressure', 'wind_direction', 'wind_speed', 'gust_speed', 'precipitation', 'condition'], skiprows=23)\n"
     ]
    }
   ],
   "source": [
    "# Import the dataset.\n",
    "df = pd.read_csv('https://cli.fusio.net/cli/climate_data/webdata/hly4935.csv', header=None, names=['date', 'time', 'temperature', 'humidity', 'dewpoint', 'pressure', 'wind_direction', 'wind_speed', 'gust_speed', 'precipitation', 'condition'], skiprows=23)"
   ]
  },
  {
   "cell_type": "code",
   "execution_count": null,
   "metadata": {},
   "outputs": [],
   "source": []
  },
  {
   "cell_type": "markdown",
   "metadata": {},
   "source": [
    "***\n",
    "### <span style=\"color:orange\"> End"
   ]
  }
 ],
 "metadata": {
  "kernelspec": {
   "display_name": "base",
   "language": "python",
   "name": "python3"
  },
  "language_info": {
   "codemirror_mode": {
    "name": "ipython",
    "version": 3
   },
   "file_extension": ".py",
   "mimetype": "text/x-python",
   "name": "python",
   "nbconvert_exporter": "python",
   "pygments_lexer": "ipython3",
   "version": "3.12.4"
  }
 },
 "nbformat": 4,
 "nbformat_minor": 2
}
